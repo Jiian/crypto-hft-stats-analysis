{
 "cells": [
  {
   "cell_type": "code",
   "execution_count": 2,
   "metadata": {},
   "outputs": [],
   "source": [
    "import pandas as pd\n",
    "import numpy as np\n",
    "import matplotlib.pyplot as plt\n",
    "import dask.dataframe as dd\n",
    "import dask.array as da"
   ]
  },
  {
   "cell_type": "markdown",
   "metadata": {},
   "source": [
    "Please assume all mentions of 'ms' to mean microseconds rather than milliseconds."
   ]
  },
  {
   "cell_type": "markdown",
   "metadata": {},
   "source": [
    "## 01 Data Exploration"
   ]
  },
  {
   "cell_type": "markdown",
   "metadata": {},
   "source": [
    "### (b) Load dataset"
   ]
  },
  {
   "cell_type": "code",
   "execution_count": 3,
   "metadata": {},
   "outputs": [],
   "source": [
    "df = dd.read_csv(\"orders.csv\", dtype = {\n",
    "        \"id\" : \"int\", \n",
    "        \"timestamp\" : \"int\", \n",
    "        \"market\" : \"category\",\n",
    "        \"pair\" : \"str\",\n",
    "        \"side\" : \"category\",\n",
    "        \"quantity\" : \"float\",\n",
    "        \"price\" : \"float\",\n",
    "        \"order_type\" : \"category\",\n",
    "        \"execution_time\" : \"float\"\n",
    "    }\n",
    ")"
   ]
  },
  {
   "cell_type": "code",
   "execution_count": 4,
   "metadata": {},
   "outputs": [
    {
     "data": {
      "text/html": [
       "<div>\n",
       "<style scoped>\n",
       "    .dataframe tbody tr th:only-of-type {\n",
       "        vertical-align: middle;\n",
       "    }\n",
       "\n",
       "    .dataframe tbody tr th {\n",
       "        vertical-align: top;\n",
       "    }\n",
       "\n",
       "    .dataframe thead th {\n",
       "        text-align: right;\n",
       "    }\n",
       "</style>\n",
       "<table border=\"1\" class=\"dataframe\">\n",
       "  <thead>\n",
       "    <tr style=\"text-align: right;\">\n",
       "      <th></th>\n",
       "      <th>id</th>\n",
       "      <th>timestamp</th>\n",
       "      <th>market</th>\n",
       "      <th>pair</th>\n",
       "      <th>side</th>\n",
       "      <th>quantity</th>\n",
       "      <th>price</th>\n",
       "      <th>order_type</th>\n",
       "      <th>execution_time</th>\n",
       "    </tr>\n",
       "  </thead>\n",
       "  <tbody>\n",
       "    <tr>\n",
       "      <th>0</th>\n",
       "      <td>1</td>\n",
       "      <td>1733000400000165</td>\n",
       "      <td>BINANCE</td>\n",
       "      <td>ETH_USDT</td>\n",
       "      <td>ASK</td>\n",
       "      <td>0.316</td>\n",
       "      <td>368.4531</td>\n",
       "      <td>Limit</td>\n",
       "      <td>7.280</td>\n",
       "    </tr>\n",
       "    <tr>\n",
       "      <th>1</th>\n",
       "      <td>2</td>\n",
       "      <td>1733000400000970</td>\n",
       "      <td>HUOBI</td>\n",
       "      <td>ADA_USDT</td>\n",
       "      <td>BID</td>\n",
       "      <td>0.545</td>\n",
       "      <td>188.0561</td>\n",
       "      <td>Market</td>\n",
       "      <td>1.798</td>\n",
       "    </tr>\n",
       "    <tr>\n",
       "      <th>2</th>\n",
       "      <td>3</td>\n",
       "      <td>1733000400001831</td>\n",
       "      <td>KRAKEN</td>\n",
       "      <td>ADA_USDT</td>\n",
       "      <td>BID</td>\n",
       "      <td>0.768</td>\n",
       "      <td>552.3179</td>\n",
       "      <td>Market</td>\n",
       "      <td>9.086</td>\n",
       "    </tr>\n",
       "    <tr>\n",
       "      <th>3</th>\n",
       "      <td>4</td>\n",
       "      <td>1733000400001953</td>\n",
       "      <td>KRAKEN</td>\n",
       "      <td>LTC_USDT</td>\n",
       "      <td>BID</td>\n",
       "      <td>0.214</td>\n",
       "      <td>975.9048</td>\n",
       "      <td>Limit</td>\n",
       "      <td>2.879</td>\n",
       "    </tr>\n",
       "    <tr>\n",
       "      <th>4</th>\n",
       "      <td>5</td>\n",
       "      <td>1733000400002031</td>\n",
       "      <td>HUOBI</td>\n",
       "      <td>LTC_USDT</td>\n",
       "      <td>ASK</td>\n",
       "      <td>0.934</td>\n",
       "      <td>734.8854</td>\n",
       "      <td>Market</td>\n",
       "      <td>0.444</td>\n",
       "    </tr>\n",
       "  </tbody>\n",
       "</table>\n",
       "</div>"
      ],
      "text/plain": [
       "   id         timestamp   market      pair side  quantity     price  \\\n",
       "0   1  1733000400000165  BINANCE  ETH_USDT  ASK     0.316  368.4531   \n",
       "1   2  1733000400000970    HUOBI  ADA_USDT  BID     0.545  188.0561   \n",
       "2   3  1733000400001831   KRAKEN  ADA_USDT  BID     0.768  552.3179   \n",
       "3   4  1733000400001953   KRAKEN  LTC_USDT  BID     0.214  975.9048   \n",
       "4   5  1733000400002031    HUOBI  LTC_USDT  ASK     0.934  734.8854   \n",
       "\n",
       "  order_type  execution_time  \n",
       "0      Limit           7.280  \n",
       "1     Market           1.798  \n",
       "2     Market           9.086  \n",
       "3      Limit           2.879  \n",
       "4     Market           0.444  "
      ]
     },
     "execution_count": 4,
     "metadata": {},
     "output_type": "execute_result"
    }
   ],
   "source": [
    "df.head()"
   ]
  },
  {
   "cell_type": "markdown",
   "metadata": {},
   "source": [
    "### (c) Find data loss periods if any"
   ]
  },
  {
   "cell_type": "code",
   "execution_count": 5,
   "metadata": {},
   "outputs": [
    {
     "data": {
      "text/plain": [
       "count    4.290032e+07\n",
       "mean     1.803201e+11\n",
       "std      2.493128e+10\n",
       "min      1.733000e+15\n",
       "25%      1.733022e+15\n",
       "50%      1.733043e+15\n",
       "75%      1.733065e+15\n",
       "max      1.733087e+15\n",
       "Name: timestamp, dtype: float64"
      ]
     },
     "execution_count": 5,
     "metadata": {},
     "output_type": "execute_result"
    }
   ],
   "source": [
    "timestamp_desc = df.loc[:, \"timestamp\"].describe().compute()\n",
    "timestamp_desc"
   ]
  },
  {
   "cell_type": "code",
   "execution_count": 8,
   "metadata": {},
   "outputs": [
    {
     "name": "stdout",
     "output_type": "stream",
     "text": [
      "86401\n"
     ]
    }
   ],
   "source": [
    "unit_time_ms = 1000 * 1000 # targetting 1s per bar\n",
    "bins0 = np.arange(timestamp_desc[\"min\"], timestamp_desc[\"max\"] + unit_time_ms, unit_time_ms)\n",
    "print(len(bins0))"
   ]
  },
  {
   "cell_type": "markdown",
   "metadata": {},
   "source": [
    "Given that there are around 43M rows, with 86k bins, we expect around 498 samples per bar in a uniformly-distributed scenario.  \n",
    "A histogram of the timestamp data shows 3 potential gaps in which there are consistently relatively low data counts."
   ]
  },
  {
   "cell_type": "code",
   "execution_count": 10,
   "metadata": {},
   "outputs": [
    {
     "data": {
      "image/png": "[encoded data removed]",
      "text/plain": [
       "<Figure size 1800x500 with 1 Axes>"
      ]
     },
     "metadata": {},
     "output_type": "display_data"
    }
   ],
   "source": [
    "hist, bins = da.histogram(df.loc[:, \"timestamp\"].values, bins = bins0)\n",
    "hist = hist.compute()\n",
    "\n",
    "# Plot with matplotlib\n",
    "plt.figure(figsize = (18, 5))\n",
    "plt.hist(bins[:-1], bins = bins, weights = hist, alpha = 0.7)\n",
    "plt.xlabel('Values')\n",
    "plt.ylabel('Frequency')\n",
    "plt.title('Histogram of Timestamp Values')\n",
    "plt.show()"
   ]
  },
  {
   "cell_type": "code",
   "execution_count": 11,
   "metadata": {},
   "outputs": [
    {
     "name": "stdout",
     "output_type": "stream",
     "text": [
      "Each bar represents 1000000.0ms\n"
     ]
    }
   ],
   "source": [
    "bar_sizes = bins[1:] - bins[:-1]\n",
    "assert all(bar_sizes == bar_sizes[0])\n",
    "print(f\"Each bar represents {np.mean(bar_sizes)}ms\")"
   ]
  },
  {
   "cell_type": "markdown",
   "metadata": {},
   "source": [
    "When the count of data per bar is plotted directly in a line chart, it clearly shows the following:\n",
    "1. Most bars have a data count around 500.\n",
    "2. There are 3 clusters of data with significantly lower data count.\n",
    "3. We can identify approximately, the clusters with low data count by filtering for data counts below 400."
   ]
  },
  {
   "cell_type": "code",
   "execution_count": 12,
   "metadata": {},
   "outputs": [
    {
     "data": {
      "image/png": "[encoded data removed]",
      "text/plain": [
       "<Figure size 640x480 with 1 Axes>"
      ]
     },
     "metadata": {},
     "output_type": "display_data"
    }
   ],
   "source": [
    "plt.plot(bins[:-1], hist)\n",
    "_ = plt.title(\"Data count per bar\")"
   ]
  },
  {
   "cell_type": "code",
   "execution_count": 15,
   "metadata": {},
   "outputs": [
    {
     "data": {
      "image/png": "[encoded data removed]",
      "text/plain": [
       "<Figure size 640x480 with 1 Axes>"
      ]
     },
     "metadata": {},
     "output_type": "display_data"
    }
   ],
   "source": [
    "loss_periods = bins[:-1][hist < 400]\n",
    "loss_periods_sf = (loss_periods % 1.733e15) // 1e9\n",
    "\n",
    "_ = plt.hist(loss_periods_sf)\n",
    "_ = plt.title(\"Loss periods\")"
   ]
  },
  {
   "cell_type": "code",
   "execution_count": 16,
   "metadata": {},
   "outputs": [],
   "source": [
    "loss_period_1 = loss_periods[loss_periods_sf < 60]\n",
    "loss_period_2 = loss_periods[np.logical_and(loss_periods_sf >= 60, loss_periods_sf <= 75)]\n",
    "loss_period_3 = loss_periods[loss_periods_sf > 75]"
   ]
  },
  {
   "cell_type": "code",
   "execution_count": 17,
   "metadata": {},
   "outputs": [
    {
     "name": "stdout",
     "output_type": "stream",
     "text": [
      "Loss period 1: 1733052020000165.0 to 1733052620000165.0\n",
      "Loss period 2: 1733070422000165.0 to 1733071022000165.0\n",
      "Loss period 3: 1733078858000165.0 to 1733079458000165.0\n"
     ]
    }
   ],
   "source": [
    "print(f\"Loss period 1: {np.min(loss_period_1)} to {np.max(loss_period_1) + bar_sizes[0]}\")\n",
    "print(f\"Loss period 2: {np.min(loss_period_2)} to {np.max(loss_period_2) + bar_sizes[0]}\")\n",
    "print(f\"Loss period 3: {np.min(loss_period_3)} to {np.max(loss_period_3) + bar_sizes[0]}\")"
   ]
  }
 ],
 "metadata": {
  "kernelspec": {
   "display_name": "env",
   "language": "python",
   "name": "python3"
  },
  "language_info": {
   "codemirror_mode": {
    "name": "ipython",
    "version": 3
   },
   "file_extension": ".py",
   "mimetype": "text/x-python",
   "name": "python",
   "nbconvert_exporter": "python",
   "pygments_lexer": "ipython3",
   "version": "3.13.2"
  }
 },
 "nbformat": 4,
 "nbformat_minor": 2
}

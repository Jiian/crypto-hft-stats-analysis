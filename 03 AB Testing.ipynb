{
 "cells": [
  {
   "cell_type": "code",
   "execution_count": 25,
   "id": "1a8fe22a",
   "metadata": {},
   "outputs": [],
   "source": [
    "import pandas as pd\n",
    "import numpy as np\n",
    "import matplotlib.pyplot as plt\n",
    "import dask.dataframe as dd\n",
    "import dask.array as da\n",
    "import statsmodels.api as sm\n",
    "import scipy.stats as stats\n",
    "import pickle"
   ]
  },
  {
   "cell_type": "code",
   "execution_count": 2,
   "id": "db377a35",
   "metadata": {},
   "outputs": [],
   "source": [
    "df = dd.read_csv(\"orders.csv\", dtype = {\n",
    "        \"id\" : \"int\", \n",
    "        \"timestamp\" : \"int\", \n",
    "        \"market\" : \"category\",\n",
    "        \"pair\" : \"str\",\n",
    "        \"side\" : \"category\",\n",
    "        \"quantity\" : \"float\",\n",
    "        \"price\" : \"float\",\n",
    "        \"order_type\" : \"category\",\n",
    "        \"execution_time\" : \"float\"\n",
    "    }\n",
    ")"
   ]
  },
  {
   "cell_type": "markdown",
   "id": "db8eb743",
   "metadata": {},
   "source": [
    "## 03 A/B Testing"
   ]
  },
  {
   "cell_type": "markdown",
   "id": "4fb3ec46",
   "metadata": {},
   "source": [
    "Removing outliers"
   ]
  },
  {
   "cell_type": "code",
   "execution_count": 27,
   "id": "5ef682d9",
   "metadata": {},
   "outputs": [],
   "source": [
    "f = open('outliers_exectime_bool.pkl','rb')\n",
    "outliers_exectime_bool = pickle.load(f)\n",
    "f.close()"
   ]
  },
  {
   "cell_type": "code",
   "execution_count": null,
   "id": "1481f6fd",
   "metadata": {},
   "outputs": [],
   "source": [
    "pd_ordertype = df.loc[:, \"order_type\"].compute()\n",
    "pd_exectime = df.loc[:, \"execution_time\"].compute()\n",
    "\n",
    "pd_ordertype_exout = pd_ordertype[~outliers_exectime_bool]\n",
    "pd_exectime_exout = pd_exectime[~outliers_exectime_bool]"
   ]
  },
  {
   "cell_type": "code",
   "execution_count": 44,
   "id": "d0f723bb",
   "metadata": {},
   "outputs": [],
   "source": [
    "market_exectime = pd_exectime_exout[pd_ordertype_exout == \"Market\"]\n",
    "limit_exectime = pd_exectime_exout[pd_ordertype_exout == \"Limit\"]"
   ]
  },
  {
   "cell_type": "markdown",
   "id": "8487717d",
   "metadata": {},
   "source": [
    "### (b) Compare median execution times"
   ]
  },
  {
   "cell_type": "markdown",
   "id": "907744c0",
   "metadata": {},
   "source": [
    "First look of data shows that the median for market order execution times is not shorter than of limit orders'.  \n",
    "The concept of testing the hypothesis of \"market orders having shorter execution times than limit orders\" does not make sense as the null hypothesis will not be rejected."
   ]
  },
  {
   "cell_type": "code",
   "execution_count": 45,
   "id": "2d0e6d40",
   "metadata": {},
   "outputs": [
    {
     "name": "stdout",
     "output_type": "stream",
     "text": [
      "Market Execution Time Median: 5.053\n",
      "Limit Execution Time Median: 5.051\n"
     ]
    }
   ],
   "source": [
    "print(\"Market Execution Time Median:\", market_exectime.median())\n",
    "print(\"Limit Execution Time Median:\", limit_exectime.median())"
   ]
  },
  {
   "cell_type": "markdown",
   "id": "586de0af",
   "metadata": {},
   "source": [
    "We can regardless, test if the two medians are significantly different.  \n",
    "Mood's median test shows that the test results are significant at a 10% significance level, but not at a 5% significance level."
   ]
  },
  {
   "cell_type": "code",
   "execution_count": 52,
   "id": "ca348e44",
   "metadata": {},
   "outputs": [
    {
     "data": {
      "text/plain": [
       "np.float64(0.069)"
      ]
     },
     "execution_count": 52,
     "metadata": {},
     "output_type": "execute_result"
    }
   ],
   "source": [
    "res = stats.median_test(market_exectime, limit_exectime)\n",
    "res.pvalue.round(3)"
   ]
  },
  {
   "cell_type": "markdown",
   "id": "96d3cf18",
   "metadata": {},
   "source": [
    "### (a) Compare both strategies"
   ]
  },
  {
   "cell_type": "markdown",
   "id": "f58b9be3",
   "metadata": {},
   "source": [
    "When testing whether both samples (market vs limit) are from the same distribution through a one-sided Mann-Whitney U test assuming alternative hypothesis to be market order execution times are stochastically smaller than of limit orders for all samples, the result is insignificant."
   ]
  },
  {
   "cell_type": "code",
   "execution_count": null,
   "id": "41bb7f4d",
   "metadata": {},
   "outputs": [
    {
     "data": {
      "text/plain": [
       "np.float64(0.906)"
      ]
     },
     "execution_count": 56,
     "metadata": {},
     "output_type": "execute_result"
    }
   ],
   "source": [
    "res = stats.mannwhitneyu(market_exectime, limit_exectime, alternative = 'less')\n",
    "res.pvalue.round(3)"
   ]
  },
  {
   "cell_type": "markdown",
   "id": "ddab8233",
   "metadata": {},
   "source": [
    "### (c) Conclusions"
   ]
  },
  {
   "cell_type": "markdown",
   "id": "273cd579",
   "metadata": {},
   "source": [
    "We have executed two tests:\n",
    "1. Mood's Median Test\n",
    "2. Mann-Whitney U Test"
   ]
  },
  {
   "cell_type": "markdown",
   "id": "2d82f501",
   "metadata": {},
   "source": [
    "**In Test 1**  \n",
    "We tested $H_0:Med_{limit}=Med_{market}$ vs $H_0:Med_{limit}\\neq Med_{market}$  \n",
    "p-value was 0.069, we do not find sufficient evidence to reject null hypothesis at 5% significance level."
   ]
  },
  {
   "cell_type": "markdown",
   "id": "31b40a4f",
   "metadata": {},
   "source": [
    "**In Test 2**  \n",
    "We tested $H_0$: Both samples are of the same distribution vs $H_1$: market order execution times are stochastically smaller than of limit orders for all samples  \n",
    "p-value was 0.906, we do not find sufficient evidence to reject null hypothesis at 5% significance level."
   ]
  }
 ],
 "metadata": {
  "kernelspec": {
   "display_name": "env",
   "language": "python",
   "name": "python3"
  },
  "language_info": {
   "codemirror_mode": {
    "name": "ipython",
    "version": 3
   },
   "file_extension": ".py",
   "mimetype": "text/x-python",
   "name": "python",
   "nbconvert_exporter": "python",
   "pygments_lexer": "ipython3",
   "version": "3.13.2"
  }
 },
 "nbformat": 4,
 "nbformat_minor": 5
}
